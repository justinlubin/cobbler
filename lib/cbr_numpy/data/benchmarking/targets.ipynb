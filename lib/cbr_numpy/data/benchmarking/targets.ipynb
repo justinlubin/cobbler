{
 "cells": [
  {
   "cell_type": "code",
   "execution_count": null,
   "id": "5bba3f23",
   "metadata": {},
   "outputs": [],
   "source": [
    "import numpy as np"
   ]
  },
  {
   "cell_type": "code",
   "execution_count": null,
   "id": "2a6eb5ad",
   "metadata": {},
   "outputs": [],
   "source": [
    "#test sum\n",
    "x = np.arange(5)\n",
    "#synth\n",
    "c = 0\n",
    "for i in range(len(x)):\n",
    "    c = c + x[i]\n",
    "c"
   ]
  },
  {
   "cell_type": "code",
   "execution_count": null,
   "id": "3aa76439",
   "metadata": {},
   "outputs": [],
   "source": [
    "#test sum mul\n",
    "x = np.arange(5)\n",
    "y = np.arange(5)\n",
    "#synth\n",
    "c = 0\n",
    "for j in range(len(x)):\n",
    "    c = c + (x[j] * y[j])\n",
    "c"
   ]
  },
  {
   "cell_type": "code",
   "execution_count": null,
   "id": "30faab1a",
   "metadata": {},
   "outputs": [],
   "source": [
    "#test mul\n",
    "x = np.arange(5)\n",
    "y = np.arange(5)\n",
    "#synth\n",
    "z = np.zeros(len(x))\n",
    "for i in range(len(x)):\n",
    "    z[i] = x[i] * y[i]\n",
    "z"
   ]
  },
  {
   "cell_type": "code",
   "execution_count": null,
   "id": "4219c20f",
   "metadata": {},
   "outputs": [],
   "source": [
    "#test no sol\n",
    "x = 0\n",
    "x + 1"
   ]
  },
  {
   "cell_type": "code",
   "execution_count": null,
   "id": "618c34a2",
   "metadata": {},
   "outputs": [],
   "source": [
    "#test sign\n",
    "x = np.arange(-5,5)\n",
    "#synth\n",
    "y = np.zeros(len(x))\n",
    "for i in range(len(x)):\n",
    "    if x[i] > 0:\n",
    "        y[i] = 1\n",
    "    else:\n",
    "        y[i] = -1\n",
    "y"
   ]
  },
  {
   "cell_type": "code",
   "execution_count": null,
   "id": "b5ef90c1",
   "metadata": {},
   "outputs": [],
   "source": [
    "#test rolling sum\n",
    "x = np.arange(6)\n",
    "window_size = 3\n",
    "#synth\n",
    "y = np.zeros(len(x)- window_size + 1)\n",
    "for i in range(len(x) - window_size + 1):\n",
    "    s = 0\n",
    "    for j in range(window_size):\n",
    "        s += x[i+j]\n",
    "    y[i] = s\n",
    "y"
   ]
  },
  {
   "cell_type": "code",
   "execution_count": null,
   "id": "ed3565a7",
   "metadata": {},
   "outputs": [],
   "source": [
    "#test rolling mean\n",
    "x = np.arange(-5,5)\n",
    "window_size = 3\n",
    "#synth\n",
    "y = np.zeros(len(x)- window_size + 1)\n",
    "for i in range(len(x) - window_size + 1):\n",
    "    s = 0\n",
    "    for j in range(window_size):\n",
    "        s += x[i+j]\n",
    "    y[i] = s / window_size\n",
    "y"
   ]
  }
 ],
 "metadata": {
  "kernelspec": {
   "display_name": "Python 3.10.8 64-bit",
   "language": "python",
   "name": "python3"
  },
  "language_info": {
   "codemirror_mode": {
    "name": "ipython",
    "version": 3
   },
   "file_extension": ".py",
   "mimetype": "text/x-python",
   "name": "python",
   "nbconvert_exporter": "python",
   "pygments_lexer": "ipython3",
   "version": "3.10.8"
  },
  "vscode": {
   "interpreter": {
    "hash": "8a94588eda9d64d9e9a351ab8144e55b1fabf5113b54e67dd26a8c27df0381b3"
   }
  }
 },
 "nbformat": 4,
 "nbformat_minor": 5
}
