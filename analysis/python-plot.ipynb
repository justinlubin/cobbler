{
 "cells": [
  {
   "cell_type": "code",
   "execution_count": null,
   "metadata": {},
   "outputs": [],
   "source": [
    "import numpy as np\n",
    "import matplotlib.pyplot as plt\n",
    "import pandas as pd"
   ]
  },
  {
   "cell_type": "code",
   "execution_count": null,
   "metadata": {},
   "outputs": [],
   "source": [
    "df = pd.read_csv(\"ForKevin.tsv\",sep='\\t')"
   ]
  },
  {
   "cell_type": "code",
   "execution_count": null,
   "metadata": {},
   "outputs": [],
   "source": [
    "plt.scatter(df['synthed ast size'], df['synth time'])\n",
    "plt.xlabel('synthed ast size')\n",
    "plt.ylabel('synth time')"
   ]
  },
  {
   "cell_type": "code",
   "execution_count": null,
   "metadata": {},
   "outputs": [],
   "source": [
    "plt.scatter(df['orig exec time'], df['synthed exec time'])\n",
    "plt.xlabel('orig exec time')\n",
    "plt.ylabel('synthed exec time')\n",
    "plt.ylim(0)"
   ]
  },
  {
   "cell_type": "code",
   "execution_count": null,
   "metadata": {},
   "outputs": [],
   "source": [
    "plt.scatter(df['orig exec time'], df['synthed exec time'] + df['synth time'])\n",
    "plt.xlabel('orig exec time')\n",
    "plt.ylabel('total synth + exec time')\n",
    "plt.ylim(0)"
   ]
  },
  {
   "cell_type": "code",
   "execution_count": null,
   "metadata": {},
   "outputs": [],
   "source": [
    "h = plt.hist(np.log2(df['synthed exec time'] / df['orig exec time']), density=True)\n",
    "_ = plt.xlabel('log2(synthed exec time / orig exec time)')"
   ]
  },
  {
   "cell_type": "code",
   "execution_count": null,
   "metadata": {},
   "outputs": [],
   "source": [
    "h = plt.hist(np.log2((df['synthed exec time'] + df['synth time']) / df['orig exec time']), density=True)\n",
    "_ = plt.xlabel('log2((synth time + synthed exec time) / orig exec time)')"
   ]
  },
  {
   "cell_type": "code",
   "execution_count": null,
   "metadata": {},
   "outputs": [],
   "source": [
    "max_ast = np.max(df['synthed ast size'])\n",
    "h = plt.hist(df['synthed ast size'], bins=range(1, max_ast+2), align='left')\n",
    "plt.xticks(range(1, max_ast+1))\n",
    "plt.xlabel('synthed ast size')\n",
    "plt.ylabel('counts')"
   ]
  }
 ],
 "metadata": {
  "kernelspec": {
   "display_name": "Python 3",
   "language": "python",
   "name": "python3"
  },
  "language_info": {
   "codemirror_mode": {
    "name": "ipython",
    "version": 3
   },
   "file_extension": ".py",
   "mimetype": "text/x-python",
   "name": "python",
   "nbconvert_exporter": "python",
   "pygments_lexer": "ipython3",
   "version": "3.8.3"
  },
  "orig_nbformat": 4
 },
 "nbformat": 4,
 "nbformat_minor": 2
}
